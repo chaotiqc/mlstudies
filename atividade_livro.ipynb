{
  "nbformat": 4,
  "nbformat_minor": 0,
  "metadata": {
    "colab": {
      "provenance": [],
      "mount_file_id": "1Uk5EZodKwPrfZwSVftwG3ouipIoAU6FY",
      "authorship_tag": "ABX9TyPhwrlbfCBONm5TA5Z7O2Zj",
      "include_colab_link": true
    },
    "kernelspec": {
      "name": "python3",
      "display_name": "Python 3"
    },
    "language_info": {
      "name": "python"
    }
  },
  "cells": [
    {
      "cell_type": "markdown",
      "metadata": {
        "id": "view-in-github",
        "colab_type": "text"
      },
      "source": [
        "<a href=\"https://colab.research.google.com/github/chaotiqc/mlstudies/blob/main/atividade_livro.ipynb\" target=\"_parent\"><img src=\"https://colab.research.google.com/assets/colab-badge.svg\" alt=\"Open In Colab\"/></a>"
      ]
    },
    {
      "cell_type": "markdown",
      "source": [
        "links uteis:\n",
        "- https://scikit-learn.org/stable/modules/preprocessing.html\n"
      ],
      "metadata": {
        "id": "xLWjU1mAv3ma"
      }
    },
    {
      "cell_type": "code",
      "source": [
        "import pandas as pd\n",
        "import numpy as np\n",
        "from numpy import set_printoptions\n",
        "import matplotlib.pyplot as plt\n",
        "import seaborn as sns"
      ],
      "metadata": {
        "id": "j96GDvEOuPjA"
      },
      "execution_count": 1,
      "outputs": []
    },
    {
      "cell_type": "code",
      "source": [
        "data = pd.read_csv(\"/content/drive/MyDrive/Física - Bacharel Lic./deep learning & colisões de partículas/atividades/diabetes.csv\")\n",
        "#print(data.head)\n",
        "array = data.values\n",
        "print(array)"
      ],
      "metadata": {
        "colab": {
          "base_uri": "https://localhost:8080/"
        },
        "id": "B-VIP5RHvOm8",
        "outputId": "4b1b5ef1-730c-41a1-9d95-306859d61b0c"
      },
      "execution_count": 5,
      "outputs": [
        {
          "output_type": "stream",
          "name": "stdout",
          "text": [
            "[[  6.    148.     72.    ...   0.627  50.      1.   ]\n",
            " [  1.     85.     66.    ...   0.351  31.      0.   ]\n",
            " [  8.    183.     64.    ...   0.672  32.      1.   ]\n",
            " ...\n",
            " [  5.    121.     72.    ...   0.245  30.      0.   ]\n",
            " [  1.    126.     60.    ...   0.349  47.      1.   ]\n",
            " [  1.     93.     70.    ...   0.315  23.      0.   ]]\n"
          ]
        }
      ]
    },
    {
      "cell_type": "code",
      "source": [
        "from sklearn.preprocessing import MinMaxScaler\n",
        "# separando o array entre entrada e saida dos componentes\n",
        "X = array[:,0:8]\n",
        "Y = array[:, 8]\n",
        "scaler = MinMaxScaler(feature_range = (0,1)) # \"feature_range\" :: a gama necessária de dados transformados\n",
        "rescaledX = scaler.fit_transform(X) # \"fit_transform\" :: ajusta os dados e depois transforma-os; adapta o transformador para X e Y com parâmetros opcionais \"fit_params\" e depois retorna uma versão transformada de X. ### \"fit_params\" = parametros de ajustes adicionais.\n",
        "# summarize transformed data\n",
        "set_printoptions(precision=3)\n",
        "print(rescaledX[0:5,:])"
      ],
      "metadata": {
        "colab": {
          "base_uri": "https://localhost:8080/"
        },
        "id": "O_NyHcljvfU6",
        "outputId": "a1d4c1f9-0668-4cd8-ed7c-f4de7393f45a"
      },
      "execution_count": null,
      "outputs": [
        {
          "output_type": "stream",
          "name": "stdout",
          "text": [
            "[[0.353 0.744 0.59  0.354 0.    0.501 0.234 0.483]\n",
            " [0.059 0.427 0.541 0.293 0.    0.396 0.117 0.167]\n",
            " [0.471 0.92  0.525 0.    0.    0.347 0.254 0.183]\n",
            " [0.059 0.447 0.541 0.232 0.111 0.419 0.038 0.   ]\n",
            " [0.    0.688 0.328 0.354 0.199 0.642 0.944 0.2  ]]\n"
          ]
        }
      ]
    },
    {
      "cell_type": "markdown",
      "source": [
        "Anotações sobre o que eu entendi de rescale:\n",
        "\n",
        "https://scikit-learn.org/stable/modules/generated/sklearn.preprocessing.MinMaxScaler.html\n"
      ],
      "metadata": {
        "id": "wCrwjDg0qD_J"
      }
    },
    {
      "cell_type": "markdown",
      "source": [
        "## Standardize data"
      ],
      "metadata": {
        "id": "34-MF2OWrxnX"
      }
    },
    {
      "cell_type": "code",
      "source": [
        "from sklearn.preprocessing import StandardScaler\n",
        "X = array[:, 0:8]\n",
        "Y = array[:,8]\n",
        "scaler = StandardScaler().fit(X) ## Padrozinar caracteristicas removendo a média e escalando para a variância da unidade. ## a pontuação padrão de uma amostra x é calculado como: \"z = (x-u)/s\", onde \"u\" é a média  das amostras de treinamento ou zero e o \"s\" é o desvio padrão das amostras de treinamento ou um.\n",
        "rescaledX = scaler.transform(X) # \"transform\" realiza a padronização centralizando e escalando\n",
        "set_printoptions(precision=3)\n",
        "print(rescaledX[0:5,:])"
      ],
      "metadata": {
        "colab": {
          "base_uri": "https://localhost:8080/"
        },
        "id": "fgRpdcZiqRJn",
        "outputId": "f68576f7-4817-42c8-f9f0-780249c6e542"
      },
      "execution_count": 6,
      "outputs": [
        {
          "output_type": "stream",
          "name": "stdout",
          "text": [
            "[[ 0.64   0.848  0.15   0.907 -0.693  0.204  0.468  1.426]\n",
            " [-0.845 -1.123 -0.161  0.531 -0.693 -0.684 -0.365 -0.191]\n",
            " [ 1.234  1.944 -0.264 -1.288 -0.693 -1.103  0.604 -0.106]\n",
            " [-0.845 -0.998 -0.161  0.155  0.123 -0.494 -0.921 -1.042]\n",
            " [-1.142  0.504 -1.505  0.907  0.766  1.41   5.485 -0.02 ]]\n"
          ]
        }
      ]
    },
    {
      "cell_type": "markdown",
      "source": [
        "https://scikit-learn.org/stable/modules/generated/sklearn.preprocessing.StandardScaler#sklearn.preprocessing.StandardScaler.transform"
      ],
      "metadata": {
        "id": "7uCpNyvSwg8D"
      }
    },
    {
      "cell_type": "markdown",
      "source": [
        "## Normalize Data"
      ],
      "metadata": {
        "id": "YWXwyXZvryiO"
      }
    },
    {
      "cell_type": "code",
      "source": [
        "from sklearn.preprocessing import Normalizer\n",
        "X = array[:, 0:8]\n",
        "Y = array[:,8]\n",
        "scaler = Normalizer().fit(X) ## normalizar amostras individualmente para a norma da unidade\n",
        "normalizedX = scaler.transform(X)\n",
        "set_printoptions(precision=3)\n",
        "print(normalizedX)"
      ],
      "metadata": {
        "colab": {
          "base_uri": "https://localhost:8080/"
        },
        "id": "-6JhRuJ5r1i2",
        "outputId": "d5ce1f8a-ce53-44bc-baf3-78bc65bd10f3"
      },
      "execution_count": 7,
      "outputs": [
        {
          "output_type": "stream",
          "name": "stdout",
          "text": [
            "[[0.034 0.828 0.403 ... 0.188 0.004 0.28 ]\n",
            " [0.008 0.716 0.556 ... 0.224 0.003 0.261]\n",
            " [0.04  0.924 0.323 ... 0.118 0.003 0.162]\n",
            " ...\n",
            " [0.027 0.651 0.388 ... 0.141 0.001 0.161]\n",
            " [0.007 0.838 0.399 ... 0.2   0.002 0.313]\n",
            " [0.008 0.736 0.554 ... 0.241 0.002 0.182]]\n"
          ]
        }
      ]
    },
    {
      "cell_type": "markdown",
      "source": [
        "https://scikit-learn.org/stable/modules/generated/sklearn.preprocessing.Normalizer.html\n",
        "\n",
        "https://scikit-learn.org/stable/auto_examples/preprocessing/plot_all_scaling.html#plot-all-scaling-normalizer-section"
      ],
      "metadata": {
        "id": "kOiZdv_xw-Ys"
      }
    },
    {
      "cell_type": "markdown",
      "source": [
        "## Binarize Data (Make Binary)"
      ],
      "metadata": {
        "id": "woa5jC-WsmYs"
      }
    },
    {
      "cell_type": "code",
      "source": [
        "from sklearn.preprocessing import Binarizer\n",
        "X = array[:, 0:8]\n",
        "Y = array[:,8]\n",
        "binarizer = Binarizer(threshold=0.0).fit(X) # Binarizar dados (defina valors de recursos para 0 ou 1) de acordo com um limite\n",
        "binaryX = binarizer.transform(X)\n",
        "set_printoptions(precision=3)\n",
        "print(binaryX[0:5,:])"
      ],
      "metadata": {
        "colab": {
          "base_uri": "https://localhost:8080/"
        },
        "id": "0GTqUnvgsrNQ",
        "outputId": "30378c60-e47a-4516-8456-87e46747ae76"
      },
      "execution_count": 8,
      "outputs": [
        {
          "output_type": "stream",
          "name": "stdout",
          "text": [
            "[[1. 1. 1. 1. 0. 1. 1. 1.]\n",
            " [1. 1. 1. 1. 0. 1. 1. 1.]\n",
            " [1. 1. 1. 0. 0. 1. 1. 1.]\n",
            " [1. 1. 1. 1. 1. 1. 1. 1.]\n",
            " [0. 1. 1. 1. 1. 1. 1. 1.]]\n"
          ]
        }
      ]
    },
    {
      "cell_type": "markdown",
      "source": [
        "https://scikit-learn.org/stable/modules/generated/sklearn.preprocessing.Binarizer.html"
      ],
      "metadata": {
        "id": "qERxjqRKxMV0"
      }
    }
  ]
}